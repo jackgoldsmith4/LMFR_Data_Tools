{
 "cells": [
  {
   "cell_type": "code",
   "execution_count": null,
   "id": "f7c4b762",
   "metadata": {},
   "outputs": [],
   "source": [
    "import functions\n",
    "\n",
    "# org variables\n",
    "uri = 'https://lastmilefood.my.salesforce.com/services/data/v52.0/jobs/'\n",
    "\n",
    "# auth variables\n",
    "username = ''\n",
    "password = ''\n",
    "securityToken = ''\n",
    "\n",
    "# authenticate with API\n",
    "session = functions.loginToSalesforce(username, password, securityToken)\n",
    "\n",
    "salesforceAccountsDF = functions.getDataframeFromSalesforce('SELECT Id, Name, RecordTypeId FROM Account', session, uri)\n",
    "salesforceContactsDF = functions.getDataframeFromSalesforce('SELECT Id, Name, Volunteer_Id__c FROM Contact', session, uri)"
   ]
  },
  {
   "cell_type": "code",
   "execution_count": null,
   "id": "86bf3dd4",
   "metadata": {},
   "outputs": [],
   "source": [
    "### UPLOAD NEW ADMIN DATA TO SALESFORCE\n",
    "# before executing, download the following four reports and place them in the same folder as this file:\n",
    "# -- donors report: rename as 'lastmile_donors.csv'\n",
    "# -- nonprofits report: rename as 'lastmile_partners.csv'\n",
    "# -- volunteers report: rename as 'lastmile_volunteers.csv'\n",
    "# -- rescues report: rename as 'lastmile_rescues.csv'\n",
    "\n",
    "### WARNING: make sure rescue data is properly updated in the admin tool before executing this upload.\n",
    "# Once rescues are uploaded to Salesforce, they must be updated there.\n",
    "# Updated rescues in the admin tool will not automatically update in Salesforce.\n",
    "functions.uploadDataToSalesforce(salesforceAccountsDF, salesforceContactsDF, session, uri)"
   ]
  },
  {
   "cell_type": "code",
   "execution_count": null,
   "id": "d770ddab",
   "metadata": {},
   "outputs": [],
   "source": []
  }
 ],
 "metadata": {
  "kernelspec": {
   "display_name": "Python 3 (ipykernel)",
   "language": "python",
   "name": "python3"
  },
  "language_info": {
   "codemirror_mode": {
    "name": "ipython",
    "version": 3
   },
   "file_extension": ".py",
   "mimetype": "text/x-python",
   "name": "python",
   "nbconvert_exporter": "python",
   "pygments_lexer": "ipython3",
   "version": "3.8.13"
  }
 },
 "nbformat": 4,
 "nbformat_minor": 5
}
