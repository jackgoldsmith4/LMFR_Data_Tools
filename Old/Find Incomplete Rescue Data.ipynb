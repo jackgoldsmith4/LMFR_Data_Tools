{
 "cells": [
  {
   "cell_type": "code",
   "execution_count": null,
   "id": "f7c4b762",
   "metadata": {},
   "outputs": [],
   "source": [
    "### FIND INCOMPLETE RESCUES: old rescues that haven't been marked as completed or canceled\n",
    "# before executing: download rescues report and save it as a file in this folder named \"lastmile_rescues.csv\"\n",
    "import pandas as pd\n",
    "import functions\n",
    "\n",
    "pd.set_option('display.max_colwidth', None)\n",
    "functions.findIncompleteRescues()"
   ]
  },
  {
   "cell_type": "code",
   "execution_count": null,
   "id": "ce76631d",
   "metadata": {},
   "outputs": [],
   "source": []
  }
 ],
 "metadata": {
  "kernelspec": {
   "display_name": "Python 3 (ipykernel)",
   "language": "python",
   "name": "python3"
  },
  "language_info": {
   "codemirror_mode": {
    "name": "ipython",
    "version": 3
   },
   "file_extension": ".py",
   "mimetype": "text/x-python",
   "name": "python",
   "nbconvert_exporter": "python",
   "pygments_lexer": "ipython3",
   "version": "3.9.6"
  }
 },
 "nbformat": 4,
 "nbformat_minor": 5
}
