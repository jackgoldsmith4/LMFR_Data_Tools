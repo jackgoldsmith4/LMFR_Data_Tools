{
 "cells": [
  {
   "cell_type": "code",
   "execution_count": null,
   "id": "de75de42",
   "metadata": {},
   "outputs": [],
   "source": [
    "import pandas as pd\n",
    "import functions\n",
    "pd.set_option('display.max_rows', 2000)\n",
    "\n",
    "# org variables\n",
    "uri = 'https://lastmilefood.my.salesforce.com/services/data/v52.0/jobs/'\n",
    "\n",
    "# auth variables\n",
    "username = ''\n",
    "password = ''\n",
    "securityToken = ''\n",
    "\n",
    "# authenticate with API\n",
    "session = functions.loginToSalesforce(username, password, securityToken)"
   ]
  },
  {
   "cell_type": "code",
   "execution_count": null,
   "id": "0eb0b40a",
   "metadata": {},
   "outputs": [],
   "source": [
    "### NOTE: make sure you have the latest rescues report download saved in this directory as \"lastmile_rescues.csv\"\n",
    "# this will return a list of all rescue IDs that are in Salesforce but not the admin tool\n",
    "res = functions.findRescueDiscrepancies(session, uri, 1)\n",
    "res"
   ]
  },
  {
   "cell_type": "code",
   "execution_count": null,
   "id": "db8d5374",
   "metadata": {},
   "outputs": [],
   "source": [
    "# this will return a list of all rescue IDs that are in the admin tool but not Salesforce\n",
    "res2 = functions.findRescueDiscrepancies(session, uri, 2)\n",
    "res2"
   ]
  },
  {
   "cell_type": "code",
   "execution_count": null,
   "id": "9298f817",
   "metadata": {},
   "outputs": [],
   "source": []
  }
 ],
 "metadata": {
  "kernelspec": {
   "display_name": "Python 3 (ipykernel)",
   "language": "python",
   "name": "python3"
  },
  "language_info": {
   "codemirror_mode": {
    "name": "ipython",
    "version": 3
   },
   "file_extension": ".py",
   "mimetype": "text/x-python",
   "name": "python",
   "nbconvert_exporter": "python",
   "pygments_lexer": "ipython3",
   "version": "3.9.6"
  }
 },
 "nbformat": 4,
 "nbformat_minor": 5
}
