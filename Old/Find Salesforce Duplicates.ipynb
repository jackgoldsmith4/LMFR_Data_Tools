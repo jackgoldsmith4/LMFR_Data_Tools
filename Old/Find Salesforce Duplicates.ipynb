{
 "cells": [
  {
   "cell_type": "code",
   "execution_count": null,
   "id": "ecd17ab8",
   "metadata": {},
   "outputs": [],
   "source": [
    "import functions\n",
    "\n",
    "# org variables\n",
    "uri = 'https://lastmilefood.my.salesforce.com/services/data/v52.0/jobs/'\n",
    "\n",
    "# auth variables\n",
    "username = ''\n",
    "password = ''\n",
    "securityToken = ''\n",
    "\n",
    "# authenticate with API\n",
    "session = functions.loginToSalesforce(username, password, securityToken)\n",
    "\n",
    "salesforceAccountsDF = functions.getDataframeFromSalesforce('SELECT Id, Name, RecordTypeId FROM Account', session, uri)\n",
    "salesforceContactsDF = functions.getDataframeFromSalesforce('SELECT Id, Name, AccountId FROM Contact', session, uri)"
   ]
  },
  {
   "cell_type": "code",
   "execution_count": null,
   "id": "f34bda52",
   "metadata": {},
   "outputs": [],
   "source": [
    "### CHECK FOR DUPLICATE FOOD DONORS\n",
    "functions.findDuplicateFoodDonors(salesforceAccountsDF, session, uri)"
   ]
  },
  {
   "cell_type": "code",
   "execution_count": null,
   "id": "9fbf7544",
   "metadata": {},
   "outputs": [],
   "source": [
    "### CHECK FOR DUPLICATE NONPROFIT PARTNERS\n",
    "functions.findDuplicateNonprofitPartners(salesforceAccountsDF, session, uri)"
   ]
  },
  {
   "cell_type": "code",
   "execution_count": null,
   "id": "26880a4d",
   "metadata": {},
   "outputs": [],
   "source": [
    "### CHECK FOR DUPLICATE VOLUNTEERS\n",
    "functions.findDuplicateVolunteers(salesforceContactsDF, session, uri)"
   ]
  },
  {
   "cell_type": "code",
   "execution_count": null,
   "id": "1446dc4c",
   "metadata": {},
   "outputs": [],
   "source": []
  }
 ],
 "metadata": {
  "kernelspec": {
   "display_name": "Python 3 (ipykernel)",
   "language": "python",
   "name": "python3"
  },
  "language_info": {
   "codemirror_mode": {
    "name": "ipython",
    "version": 3
   },
   "file_extension": ".py",
   "mimetype": "text/x-python",
   "name": "python",
   "nbconvert_exporter": "python",
   "pygments_lexer": "ipython3",
   "version": "3.9.6"
  }
 },
 "nbformat": 4,
 "nbformat_minor": 5
}
