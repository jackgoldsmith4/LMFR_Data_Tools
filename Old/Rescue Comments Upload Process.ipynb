{
 "cells": [
  {
   "cell_type": "code",
   "execution_count": null,
   "id": "919cd6b4",
   "metadata": {},
   "outputs": [],
   "source": [
    "import functions\n",
    "\n",
    "# org variables\n",
    "uri = 'https://lastmilefood.my.salesforce.com/services/data/v52.0/jobs/'\n",
    "\n",
    "# auth variables\n",
    "username = ''\n",
    "password = ''\n",
    "securityToken = ''\n",
    "\n",
    "# authenticate with API\n",
    "session = functions.loginToSalesforce(username, password, securityToken)"
   ]
  },
  {
   "cell_type": "code",
   "execution_count": null,
   "id": "e9461a1b",
   "metadata": {},
   "outputs": [],
   "source": [
    "# before running this, make sure the LATEST VERSION of the comments excel file\n",
    "# is saved in the same directory AND named \"lastmile_rescue_comments.csv\"\n",
    "functions.updateSFRescuesWithComments(session, uri)"
   ]
  },
  {
   "cell_type": "code",
   "execution_count": null,
   "id": "40ad3826",
   "metadata": {},
   "outputs": [],
   "source": []
  }
 ],
 "metadata": {
  "kernelspec": {
   "display_name": "Python 3 (ipykernel)",
   "language": "python",
   "name": "python3"
  },
  "language_info": {
   "codemirror_mode": {
    "name": "ipython",
    "version": 3
   },
   "file_extension": ".py",
   "mimetype": "text/x-python",
   "name": "python",
   "nbconvert_exporter": "python",
   "pygments_lexer": "ipython3",
   "version": "3.9.6"
  }
 },
 "nbformat": 4,
 "nbformat_minor": 5
}
